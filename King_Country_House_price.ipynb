{
  "nbformat": 4,
  "nbformat_minor": 0,
  "metadata": {
    "colab": {
      "provenance": [],
      "authorship_tag": "ABX9TyMC+XyUGe2MzWrT7udbk7RS",
      "include_colab_link": true
    },
    "kernelspec": {
      "name": "python3",
      "display_name": "Python 3"
    },
    "language_info": {
      "name": "python"
    }
  },
  "cells": [
    {
      "cell_type": "markdown",
      "metadata": {
        "id": "view-in-github",
        "colab_type": "text"
      },
      "source": [
        "<a href=\"https://colab.research.google.com/github/liyachittilappilly/King-County-House-Price-Prediction/blob/main/King_Country_House_price.ipynb\" target=\"_parent\"><img src=\"https://colab.research.google.com/assets/colab-badge.svg\" alt=\"Open In Colab\"/></a>"
      ]
    },
    {
      "cell_type": "markdown",
      "source": [
        "import dataset and selected columns that we need"
      ],
      "metadata": {
        "id": "nU-EICVXnn4c"
      }
    },
    {
      "cell_type": "code",
      "metadata": {
        "id": "de8b579a"
      },
      "source": [
        "import pandas as pd\n",
        "d = pd.read_csv(\"/content/kc_house_data.csv\")\n",
        "df = d[[\"price\",\"date\", \"bedrooms\",\n",
        "                                  \"bathrooms\", \"sqft_living\", \"floors\",\n",
        "                                  \"waterfront\", \"view\", \"condition\", \"grade\",\"zipcode\"]]"
      ],
      "execution_count": null,
      "outputs": []
    },
    {
      "cell_type": "markdown",
      "source": [
        "deriving year and month from date"
      ],
      "metadata": {
        "id": "OTcmvhUAn3NO"
      }
    },
    {
      "cell_type": "code",
      "metadata": {
        "id": "a50da24c"
      },
      "source": [
        "df.loc[:,\"year\"] = df[\"date\"].str[0:4]\n",
        "df.loc[:,\"month\"] = df[\"date\"].str[4:6]\n",
        "\n",
        "df = df.drop(columns=[\"date\"])"
      ],
      "execution_count": null,
      "outputs": []
    },
    {
      "cell_type": "markdown",
      "source": [
        "encoding categorical columns\n",
        "get_dummies  converting to 0 and 1"
      ],
      "metadata": {
        "id": "rL2KBGvIoIgq"
      }
    },
    {
      "cell_type": "code",
      "metadata": {
        "id": "a9ff9eff"
      },
      "source": [
        "cf = [\"waterfront\", \"view\", \"condition\", \"grade\", \"year\", \"month\", \"zipcode\"]\n",
        "df = pd.get_dummies(df,columns=cf)\n",
        "print(df.columns)"
      ],
      "execution_count": null,
      "outputs": []
    },
    {
      "cell_type": "markdown",
      "source": [
        "Standardizing numeric columns"
      ],
      "metadata": {
        "id": "9vRBiNtTomps"
      }
    },
    {
      "cell_type": "code",
      "source": [
        "from sklearn.preprocessing import StandardScaler\n",
        "scaler = StandardScaler().fit(df[['price', 'bedrooms', 'bathrooms', 'sqft_living', 'floors']])\n",
        "\n",
        "dnormalized = scaler.transform(df[['price', 'bedrooms', 'bathrooms', 'sqft_living', 'floors']])\n",
        "dnormalized"
      ],
      "metadata": {
        "id": "0NM67Featylz"
      },
      "execution_count": null,
      "outputs": []
    },
    {
      "cell_type": "markdown",
      "source": [
        "Putting scaled values to dataframe"
      ],
      "metadata": {
        "id": "JIoYjPbSqPie"
      }
    },
    {
      "cell_type": "code",
      "source": [
        "dfnormalized=pd.DataFrame(dnormalized,columns=['price', 'bedrooms', 'bathrooms', 'sqft_living', 'floors'])\n",
        "dfnormalized=dfnormalized.join(df[df.columns.drop(['price', 'bedrooms', 'bathrooms', 'sqft_living', 'floors'])])"
      ],
      "metadata": {
        "id": "MvOeOD4Rt1u9"
      },
      "execution_count": null,
      "outputs": []
    },
    {
      "cell_type": "code",
      "source": [
        "Y = dfnormalized['price']\n",
        "X = dfnormalized[dfnormalized.columns.drop('price')]\n",
        "print(X.shape)"
      ],
      "metadata": {
        "colab": {
          "base_uri": "https://localhost:8080/"
        },
        "id": "fMSbPArrt4bz",
        "outputId": "8104be2b-63ac-475f-ab93-fd458e8e632b"
      },
      "execution_count": null,
      "outputs": [
        {
          "output_type": "stream",
          "name": "stdout",
          "text": [
            "(21613, 11)\n"
          ]
        }
      ]
    },
    {
      "cell_type": "code",
      "source": [
        "from sklearn.model_selection import train_test_split\n",
        "X_train,X_test,Y_train,Y_test = train_test_split(X,Y,test_size=0.2, random_state=100)\n",
        "X_train.shape , X_test.shape"
      ],
      "metadata": {
        "colab": {
          "base_uri": "https://localhost:8080/"
        },
        "id": "9iXPgbORt88J",
        "outputId": "16ece0a7-7efd-4094-fb75-3a3099188fb5"
      },
      "execution_count": null,
      "outputs": [
        {
          "output_type": "execute_result",
          "data": {
            "text/plain": [
              "((17290, 11), (4323, 11))"
            ]
          },
          "metadata": {},
          "execution_count": 28
        }
      ]
    },
    {
      "cell_type": "code",
      "source": [
        "from sklearn.linear_model import LinearRegression\n",
        "model = LinearRegression()\n",
        "model.fit(X_train,Y_train)\n",
        "train_score=model.score(X_train,Y_train)\n",
        "test_score=model.score(X_test,Y_test)\n",
        "print('Train Score (R-Squared): ',train_score)\n",
        "print('Test Score (R-Squared)',test_score)"
      ],
      "metadata": {
        "colab": {
          "base_uri": "https://localhost:8080/"
        },
        "id": "A6yeA4IruAOW",
        "outputId": "bfd29d46-2b2f-4989-a9d5-d9e31630824d"
      },
      "execution_count": null,
      "outputs": [
        {
          "output_type": "stream",
          "name": "stdout",
          "text": [
            "Train Score (R-Squared):  0.6085146215518344\n",
            "Test Score (R-Squared) 0.6123683824588224\n"
          ]
        }
      ]
    },
    {
      "cell_type": "code",
      "source": [
        "from sklearn.metrics import mean_squared_error\n",
        "train_predictions = model.predict(X_train)\n",
        "train_RMSE=mean_squared_error(Y_train,train_predictions)**0.5\n",
        "test_predictions = model.predict(X_test)\n",
        "test_RMSE=mean_squared_error(Y_test,test_predictions)**0.5\n",
        "print('Train RMSE : ',train_RMSE)\n",
        "print('Test RMSE : ',test_RMSE)"
      ],
      "metadata": {
        "colab": {
          "base_uri": "https://localhost:8080/"
        },
        "id": "qXqkTciKuEq4",
        "outputId": "1393bff4-9348-4316-8cf1-2ccb337435c6"
      },
      "execution_count": null,
      "outputs": [
        {
          "output_type": "stream",
          "name": "stdout",
          "text": [
            "Train RMSE :  0.625688325933704\n",
            "Test RMSE :  0.6225844299175358\n"
          ]
        }
      ]
    }
  ]
}